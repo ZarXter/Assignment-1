{
  "cells": [
    {
      "cell_type": "markdown",
      "metadata": {
        "id": "view-in-github",
        "colab_type": "text"
      },
      "source": [
        "<a href=\"https://colab.research.google.com/github/ZarXter/Assignment-1/blob/main/PW_Skills_Functions_Assignment.ipynb\" target=\"_parent\"><img src=\"https://colab.research.google.com/assets/colab-badge.svg\" alt=\"Open In Colab\"/></a>"
      ]
    },
    {
      "cell_type": "markdown",
      "id": "e6bacdfb",
      "metadata": {
        "id": "e6bacdfb"
      },
      "source": [
        "# PW Skills – Functions Assignment"
      ]
    },
    {
      "cell_type": "markdown",
      "id": "0ceccbce",
      "metadata": {
        "id": "0ceccbce"
      },
      "source": [
        "## Theory Questions"
      ]
    },
    {
      "cell_type": "markdown",
      "id": "a785d008",
      "metadata": {
        "id": "a785d008"
      },
      "source": [
        "### 1. What is the difference between a function and a method in Python?\n",
        "\n",
        "A **function** is a block of reusable code defined using `def` and can exist independently. A **method** is a function associated with an object, typically defined inside a class.\n",
        "\n",
        "**Example:**\n",
        "```python\n",
        "def greet():\n",
        "    return 'Hello'\n",
        "\n",
        "class Person:\n",
        "    def say_hello(self):\n",
        "        return 'Hi'\n",
        "```"
      ]
    },
    {
      "cell_type": "markdown",
      "id": "e08c040e",
      "metadata": {
        "id": "e08c040e"
      },
      "source": [
        "### 2. Explain the concept of function arguments and parameters in Python.\n",
        "\n",
        "**Parameters** are variables listed in the function definition. **Arguments** are values passed to the function when it is called.\n",
        "\n",
        "**Example:**\n",
        "```python\n",
        "def add(a, b):\n",
        "    return a + b\n",
        "\n",
        "add(5, 3)\n",
        "```"
      ]
    },
    {
      "cell_type": "markdown",
      "id": "e406d530",
      "metadata": {
        "id": "e406d530"
      },
      "source": [
        "### 3. What are the different ways to define and call a function in Python?\n",
        "\n",
        "Functions are defined using `def` and called using parentheses with appropriate arguments.\n",
        "\n",
        "**Example:**\n",
        "```python\n",
        "def greet(name):\n",
        "    return 'Hello ' + name\n",
        "\n",
        "greet('Alice')\n",
        "```"
      ]
    },
    {
      "cell_type": "markdown",
      "id": "22e18fca",
      "metadata": {
        "id": "22e18fca"
      },
      "source": [
        "### 4. What is the purpose of the `return` statement in a Python function?\n",
        "\n",
        "`return` sends back the result to the caller and exits the function.\n",
        "\n",
        "**Example:**\n",
        "```python\n",
        "def square(n):\n",
        "    return n * n\n",
        "```"
      ]
    },
    {
      "cell_type": "markdown",
      "id": "9046ad14",
      "metadata": {
        "id": "9046ad14"
      },
      "source": [
        "### 5. What are iterators in Python and how do they differ from iterables?\n",
        "\n",
        "An **iterable** is an object that returns an iterator (like lists, tuples). An **iterator** has a `__next__()` method.\n",
        "\n",
        "**Example:**\n",
        "```python\n",
        "nums = [1, 2, 3]\n",
        "it = iter(nums)\n",
        "next(it)\n",
        "```"
      ]
    },
    {
      "cell_type": "markdown",
      "id": "29d7eacc",
      "metadata": {
        "id": "29d7eacc"
      },
      "source": [
        "### 6. Explain the concept of generators in Python and how they are defined.\n",
        "\n",
        "A **generator** uses `yield` instead of `return` to yield items one at a time.\n",
        "\n",
        "**Example:**\n",
        "```python\n",
        "def gen():\n",
        "    yield 1\n",
        "    yield 2\n",
        "```"
      ]
    },
    {
      "cell_type": "markdown",
      "id": "0c00fe85",
      "metadata": {
        "id": "0c00fe85"
      },
      "source": [
        "### 7. What are the advantages of using generators over regular functions?\n",
        "\n",
        "- Memory efficient\n",
        "- Lazy evaluation\n",
        "- Suitable for large datasets"
      ]
    },
    {
      "cell_type": "markdown",
      "id": "cda35330",
      "metadata": {
        "id": "cda35330"
      },
      "source": [
        "### 8. What is a lambda function in Python and when is it typically used?\n",
        "\n",
        "A lambda function is an anonymous function used for short, throwaway operations.\n",
        "\n",
        "**Example:**\n",
        "```python\n",
        "square = lambda x: x * x\n",
        "```"
      ]
    },
    {
      "cell_type": "markdown",
      "id": "072efcf0",
      "metadata": {
        "id": "072efcf0"
      },
      "source": [
        "### 9. Explain the purpose and usage of the `map()` function in Python.\n",
        "\n",
        "`map()` applies a function to all items in an iterable.\n",
        "\n",
        "**Example:**\n",
        "```python\n",
        "nums = [1, 2, 3]\n",
        "squared = list(map(lambda x: x*x, nums))\n",
        "```"
      ]
    },
    {
      "cell_type": "markdown",
      "id": "3ddbf748",
      "metadata": {
        "id": "3ddbf748"
      },
      "source": [
        "### 10. What is the difference between `map()`, `reduce()`, and `filter()` functions in Python?\n",
        "\n",
        "- `map()` applies a function to each item.\n",
        "- `filter()` returns items that match a condition.\n",
        "- `reduce()` applies a function cumulatively.\n",
        "\n",
        "**Example:**\n",
        "```python\n",
        "from functools import reduce\n",
        "\n",
        "map_result = list(map(lambda x: x*2, [1, 2, 3]))\n",
        "filter_result = list(filter(lambda x: x % 2 == 0, [1, 2, 3]))\n",
        "reduce_result = reduce(lambda x, y: x + y, [1, 2, 3])\n",
        "```"
      ]
    },
    {
      "cell_type": "markdown",
      "id": "b7eaa314",
      "metadata": {
        "id": "b7eaa314"
      },
      "source": [
        "### 11. Internal mechanism of `reduce()` on [47,11,42,13]\n",
        "\n",
        "**Steps:**\n",
        "- Step 1: reduce(func, [47,11,42,13])\n",
        "- Step 2: func(47, 11) => 58\n",
        "- Step 3: func(58, 42) => 100\n",
        "- Step 4: func(100, 13) => 113"
      ]
    }
  ],
  "metadata": {
    "colab": {
      "provenance": [],
      "include_colab_link": true
    },
    "language_info": {
      "name": "python"
    },
    "kernelspec": {
      "name": "python3",
      "display_name": "Python 3"
    }
  },
  "nbformat": 4,
  "nbformat_minor": 5
}