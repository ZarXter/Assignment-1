{
 "cells": [
  {
   "cell_type": "code",
   "execution_count": 1,
   "id": "0d254886-a187-4d14-acb4-545993162325",
   "metadata": {},
   "outputs": [],
   "source": [
    "#Question 1\n",
    "#Explain the key features of python that make it a popular choice for programming"
   ]
  },
  {
   "cell_type": "code",
   "execution_count": 3,
   "id": "17a7f6dc-77ef-4de9-b4ea-3b281ae0cee0",
   "metadata": {},
   "outputs": [],
   "source": [
    "#Answer 1\n",
    "#Python is a programming language that is easy to understand and write, making it a popular choice among developers and programmers.\n",
    "#It is compatible with various programming paradigms, such as procedural, object-oriented, and functional programming.\n",
    "#Python has a large and active community of developers, an extensive standard library, and third-party packages for various domains."
   ]
  },
  {
   "cell_type": "code",
   "execution_count": 4,
   "id": "82d652d8-e9b8-4590-8354-cec892c16c60",
   "metadata": {},
   "outputs": [],
   "source": [
    "#Question 2\n",
    "#Describe the role of predefined keywords in Python and provide examples of how they are used in a program."
   ]
  },
  {
   "cell_type": "code",
   "execution_count": 7,
   "id": "e2a72ed7-f472-4f9f-9e52-92aa3356ae20",
   "metadata": {},
   "outputs": [],
   "source": [
    "#Answer 2\n",
    "#Keywords are reserved words in Python that have special meanings and cannot be used as identifiers (variable names, function names, etc.). \n",
    "#Examples of keywords include if, else, while, for, def, class, import, try, except, return, True, False, None, etc.\n",
    "#Keywords are case-sensitive and cannot be redefined or overridden within a Python program."
   ]
  },
  {
   "cell_type": "code",
   "execution_count": 8,
   "id": "e4496f82-a947-4c1b-a3fa-073fe7a6e508",
   "metadata": {},
   "outputs": [
    {
     "name": "stdout",
     "output_type": "stream",
     "text": [
      "Hello World\n"
     ]
    }
   ],
   "source": [
    "#Example 1\n",
    "print(\"Hello World\")"
   ]
  },
  {
   "cell_type": "code",
   "execution_count": 10,
   "id": "2d36f33a-99e8-4e62-b934-1562c43bab87",
   "metadata": {},
   "outputs": [
    {
     "name": "stdout",
     "output_type": "stream",
     "text": [
      "n is less than 10\n"
     ]
    }
   ],
   "source": [
    "#Example 2\n",
    "n = 7\n",
    "if n <10:\n",
    "     print (\"n is less than 10\")\n"
   ]
  },
  {
   "cell_type": "code",
   "execution_count": 12,
   "id": "23c2fff6-9ef1-47e9-b010-e7feddf0b7e1",
   "metadata": {},
   "outputs": [
    {
     "name": "stdout",
     "output_type": "stream",
     "text": [
      "\n",
      "Here is a list of the Python keywords.  Enter any keyword to get more help.\n",
      "\n",
      "False               class               from                or\n",
      "None                continue            global              pass\n",
      "True                def                 if                  raise\n",
      "and                 del                 import              return\n",
      "as                  elif                in                  try\n",
      "assert              else                is                  while\n",
      "async               except              lambda              with\n",
      "await               finally             nonlocal            yield\n",
      "break               for                 not                 \n",
      "\n"
     ]
    }
   ],
   "source": [
    "#Example 3\n",
    "#List of all keywords\n",
    "help(\"keywords\")"
   ]
  },
  {
   "cell_type": "code",
   "execution_count": 13,
   "id": "b8b11932-2999-49b2-916c-4ec62902fe87",
   "metadata": {},
   "outputs": [],
   "source": [
    "#Question 3\n",
    "#Compare and contrast mutable and immutable objects in Python with Examples."
   ]
  },
  {
   "cell_type": "code",
   "execution_count": 15,
   "id": "b579a232-cc2b-4993-aca7-5cf3518a257d",
   "metadata": {},
   "outputs": [],
   "source": [
    "#Answer 3\n",
    "#In Python, objects can be either mutable (modifiable) or immutable (unchangeable). \n",
    "#Mutable objects, such as lists and dictionaries, can be modified after creation, while immutable objects, such as tuples and strings, cannot. \n",
    "#Mutability affects how objects are stored and manipulated in memory, impacting performance, memory usage, and concurrency in Python programs. "
   ]
  },
  {
   "cell_type": "code",
   "execution_count": 19,
   "id": "03052d35-dff9-4118-8825-c4b8fea03d09",
   "metadata": {},
   "outputs": [],
   "source": [
    "#Mutable Objects like a list can be modified while immutable objects like strings cannot\n",
    "a = [1, 4, 5, \"Sun\", \"Moon\"]"
   ]
  },
  {
   "cell_type": "code",
   "execution_count": 20,
   "id": "f33a94c5-d74d-4d62-8f24-81033f79248b",
   "metadata": {},
   "outputs": [
    {
     "data": {
      "text/plain": [
       "[1, 4, 5, 'Sun', 'Moon']"
      ]
     },
     "execution_count": 20,
     "metadata": {},
     "output_type": "execute_result"
    }
   ],
   "source": [
    "a"
   ]
  },
  {
   "cell_type": "code",
   "execution_count": 21,
   "id": "2a4965a6-2ebf-46b5-8ba4-de5af2ab6991",
   "metadata": {},
   "outputs": [],
   "source": [
    "#mutability means to edit\n",
    "#we can change the word 'Sun' to Yellow since a list is a mutable object\n",
    "a[3] = \"Yellow\""
   ]
  },
  {
   "cell_type": "code",
   "execution_count": 22,
   "id": "9cf2106e-0c45-4052-9ae3-401c9fe4c421",
   "metadata": {},
   "outputs": [
    {
     "data": {
      "text/plain": [
       "[1, 4, 5, 'Yellow', 'Moon']"
      ]
     },
     "execution_count": 22,
     "metadata": {},
     "output_type": "execute_result"
    }
   ],
   "source": [
    "a"
   ]
  },
  {
   "cell_type": "code",
   "execution_count": 24,
   "id": "f3ea2c46-d0c4-415b-bb2d-fd5020dceacb",
   "metadata": {},
   "outputs": [
    {
     "ename": "SyntaxError",
     "evalue": "cannot assign to literal here. Maybe you meant '==' instead of '='? (4150365368.py, line 3)",
     "output_type": "error",
     "traceback": [
      "\u001b[0;36m  Cell \u001b[0;32mIn[24], line 3\u001b[0;36m\u001b[0m\n\u001b[0;31m    \"Sun\"= 1\u001b[0m\n\u001b[0m    ^\u001b[0m\n\u001b[0;31mSyntaxError\u001b[0m\u001b[0;31m:\u001b[0m cannot assign to literal here. Maybe you meant '==' instead of '='?\n"
     ]
    }
   ],
   "source": [
    "#above we can see the content of the list: 'Sun' has been edited and changed to 'Yellow'\n",
    "#But if we try to edit an immutable object like a string Python will show an error\n",
    "\"Sun\"= 1"
   ]
  },
  {
   "cell_type": "code",
   "execution_count": 25,
   "id": "d384460d-dada-45f1-b6c1-b20c464473b7",
   "metadata": {},
   "outputs": [],
   "source": [
    "#Question 4\n",
    "#Describe the types of operators in Python and provide examples of how they are used."
   ]
  },
  {
   "cell_type": "code",
   "execution_count": 26,
   "id": "e5556bdc-b062-4a47-89e6-c8ec0cd14374",
   "metadata": {},
   "outputs": [],
   "source": [
    "#Answer 4\n",
    "#Operators are special symbols or keywords that are used to carry out specific actions on numbers or variables in Python expressions. \n",
    "#Python supports various types of operators, including arithmetic operators (+, -, *, /), comparison operators (==, !=, <, >), logical operators (and, or, not), assignment operators (=, +=, -=, *=, /=), etc.\n",
    "#Operators have precedence and associativity rules that determine the order of evaluation in expressions"
   ]
  },
  {
   "cell_type": "code",
   "execution_count": 30,
   "id": "b9272414-2ccd-4d22-b427-e2aff1d61196",
   "metadata": {},
   "outputs": [],
   "source": [
    "#Arithmetic Operators\n",
    "#These operators perform basic mathematical operations.\n",
    "a = 5\n",
    "b = 3\n",
    "n = a + b\n",
    "m = a - b\n",
    "x = a * b\n",
    "y = a/b"
   ]
  },
  {
   "cell_type": "code",
   "execution_count": 29,
   "id": "5ee2058a-31a4-4219-8da1-122f8d478976",
   "metadata": {},
   "outputs": [
    {
     "data": {
      "text/plain": [
       "8"
      ]
     },
     "execution_count": 29,
     "metadata": {},
     "output_type": "execute_result"
    }
   ],
   "source": [
    "n"
   ]
  },
  {
   "cell_type": "code",
   "execution_count": 31,
   "id": "1a9e37e5-b5e1-4082-8a4c-23c4fc4434d8",
   "metadata": {},
   "outputs": [
    {
     "data": {
      "text/plain": [
       "2"
      ]
     },
     "execution_count": 31,
     "metadata": {},
     "output_type": "execute_result"
    }
   ],
   "source": [
    "m"
   ]
  },
  {
   "cell_type": "code",
   "execution_count": 32,
   "id": "723eff5f-2eab-4148-ac68-5ba604fb752f",
   "metadata": {},
   "outputs": [
    {
     "data": {
      "text/plain": [
       "15"
      ]
     },
     "execution_count": 32,
     "metadata": {},
     "output_type": "execute_result"
    }
   ],
   "source": [
    "x"
   ]
  },
  {
   "cell_type": "code",
   "execution_count": 33,
   "id": "7641e54b-f9e9-41ef-ae61-76f5bf42bd33",
   "metadata": {},
   "outputs": [
    {
     "data": {
      "text/plain": [
       "1.6666666666666667"
      ]
     },
     "execution_count": 33,
     "metadata": {},
     "output_type": "execute_result"
    }
   ],
   "source": [
    "y"
   ]
  },
  {
   "cell_type": "code",
   "execution_count": 34,
   "id": "f7432c0c-5dd0-4312-8822-da70d2874c60",
   "metadata": {},
   "outputs": [],
   "source": [
    "#Comparison operators\n",
    "#These operators compare two values and return a Boolean value (True or False)."
   ]
  },
  {
   "cell_type": "code",
   "execution_count": 35,
   "id": "a4f89317-1f99-455b-bac0-de5b5a958990",
   "metadata": {},
   "outputs": [
    {
     "data": {
      "text/plain": [
       "False"
      ]
     },
     "execution_count": 35,
     "metadata": {},
     "output_type": "execute_result"
    }
   ],
   "source": [
    "a == b"
   ]
  },
  {
   "cell_type": "code",
   "execution_count": 36,
   "id": "16b55c9d-dec2-4822-9605-a4e1843dd459",
   "metadata": {},
   "outputs": [
    {
     "data": {
      "text/plain": [
       "True"
      ]
     },
     "execution_count": 36,
     "metadata": {},
     "output_type": "execute_result"
    }
   ],
   "source": [
    "a != b"
   ]
  },
  {
   "cell_type": "code",
   "execution_count": 37,
   "id": "0b213c93-ae6e-4ea5-a0f5-ed63d9baead7",
   "metadata": {},
   "outputs": [
    {
     "data": {
      "text/plain": [
       "False"
      ]
     },
     "execution_count": 37,
     "metadata": {},
     "output_type": "execute_result"
    }
   ],
   "source": [
    "a < b"
   ]
  },
  {
   "cell_type": "code",
   "execution_count": 38,
   "id": "4d11bc4c-602c-49bd-a561-e5dc459fb58d",
   "metadata": {},
   "outputs": [
    {
     "data": {
      "text/plain": [
       "True"
      ]
     },
     "execution_count": 38,
     "metadata": {},
     "output_type": "execute_result"
    }
   ],
   "source": [
    "a > b"
   ]
  },
  {
   "cell_type": "code",
   "execution_count": 39,
   "id": "6a43e88f-5a59-4fd2-985d-f67b03754f96",
   "metadata": {},
   "outputs": [],
   "source": [
    "#Logical operators\n",
    "#These operators are used to combine conditional statements."
   ]
  },
  {
   "cell_type": "code",
   "execution_count": 46,
   "id": "c8a72446-0636-412a-8ae8-97ddbf13dac5",
   "metadata": {},
   "outputs": [],
   "source": [
    "o = ( a > 2 and b < 6 )"
   ]
  },
  {
   "cell_type": "code",
   "execution_count": 47,
   "id": "740c08e0-73dd-40fa-95c8-4591c708db53",
   "metadata": {},
   "outputs": [
    {
     "data": {
      "text/plain": [
       "True"
      ]
     },
     "execution_count": 47,
     "metadata": {},
     "output_type": "execute_result"
    }
   ],
   "source": [
    "o"
   ]
  },
  {
   "cell_type": "code",
   "execution_count": 48,
   "id": "eb570a40-6537-4f0a-8786-6e6b992dfa34",
   "metadata": {},
   "outputs": [],
   "source": [
    "o = ( a > 2 and b > 6 )"
   ]
  },
  {
   "cell_type": "code",
   "execution_count": 49,
   "id": "6513bdf8-5beb-48ea-9812-74dca6e0d877",
   "metadata": {},
   "outputs": [
    {
     "data": {
      "text/plain": [
       "False"
      ]
     },
     "execution_count": 49,
     "metadata": {},
     "output_type": "execute_result"
    }
   ],
   "source": [
    "o"
   ]
  },
  {
   "cell_type": "code",
   "execution_count": 50,
   "id": "8c261590-7bdc-4917-baa6-00e6484eeb03",
   "metadata": {},
   "outputs": [],
   "source": [
    "o = not(a>2)"
   ]
  },
  {
   "cell_type": "code",
   "execution_count": 51,
   "id": "e58ab86e-92fc-42c4-af6e-18dc74412b6a",
   "metadata": {},
   "outputs": [
    {
     "data": {
      "text/plain": [
       "False"
      ]
     },
     "execution_count": 51,
     "metadata": {},
     "output_type": "execute_result"
    }
   ],
   "source": [
    "o"
   ]
  },
  {
   "cell_type": "code",
   "execution_count": 52,
   "id": "11bebb2d-2bca-4106-8c15-58f18d743a27",
   "metadata": {},
   "outputs": [],
   "source": [
    "#Assignment operators\n",
    "#These operators are used to assign values to variables."
   ]
  },
  {
   "cell_type": "code",
   "execution_count": 53,
   "id": "b8e85ece-6563-4018-9398-062a574ac536",
   "metadata": {},
   "outputs": [],
   "source": [
    "x = 10"
   ]
  },
  {
   "cell_type": "code",
   "execution_count": 54,
   "id": "74592e0f-cff5-4311-a6ff-b60bbd0699e0",
   "metadata": {},
   "outputs": [],
   "source": [
    "x +=3"
   ]
  },
  {
   "cell_type": "code",
   "execution_count": 55,
   "id": "7dd9c8c4-1ff4-40d8-8137-8d5dc3edafdd",
   "metadata": {},
   "outputs": [
    {
     "data": {
      "text/plain": [
       "13"
      ]
     },
     "execution_count": 55,
     "metadata": {},
     "output_type": "execute_result"
    }
   ],
   "source": [
    "x"
   ]
  },
  {
   "cell_type": "code",
   "execution_count": 56,
   "id": "583f9c6e-eb2c-4eea-80eb-9cb976804ca8",
   "metadata": {},
   "outputs": [],
   "source": [
    "x-=3"
   ]
  },
  {
   "cell_type": "code",
   "execution_count": 57,
   "id": "272530f4-fbb6-4f3a-a25f-a3d554ec5680",
   "metadata": {},
   "outputs": [
    {
     "data": {
      "text/plain": [
       "10"
      ]
     },
     "execution_count": 57,
     "metadata": {},
     "output_type": "execute_result"
    }
   ],
   "source": [
    "x"
   ]
  },
  {
   "cell_type": "code",
   "execution_count": 58,
   "id": "86c2425b-1f8f-41d2-a9f9-5bcfd1a2c250",
   "metadata": {},
   "outputs": [],
   "source": [
    "x*=3"
   ]
  },
  {
   "cell_type": "code",
   "execution_count": 59,
   "id": "2415db5f-3821-421e-97f7-3ef0deeabd9b",
   "metadata": {},
   "outputs": [
    {
     "data": {
      "text/plain": [
       "30"
      ]
     },
     "execution_count": 59,
     "metadata": {},
     "output_type": "execute_result"
    }
   ],
   "source": [
    "x"
   ]
  },
  {
   "cell_type": "code",
   "execution_count": 60,
   "id": "8e396300-22d0-4ed4-beff-71d29b33cca5",
   "metadata": {},
   "outputs": [],
   "source": [
    "x/=4"
   ]
  },
  {
   "cell_type": "code",
   "execution_count": 62,
   "id": "d64ce676-804e-44db-9033-11d474081a3d",
   "metadata": {},
   "outputs": [
    {
     "data": {
      "text/plain": [
       "7.5"
      ]
     },
     "execution_count": 62,
     "metadata": {},
     "output_type": "execute_result"
    }
   ],
   "source": [
    "x"
   ]
  },
  {
   "cell_type": "code",
   "execution_count": 63,
   "id": "dd0e80f4-2e4e-4a76-9cc6-6a542fc53975",
   "metadata": {},
   "outputs": [],
   "source": [
    "#Bitwise Operators\n",
    "#These operators work with bits and perform bit-by-bit operations."
   ]
  },
  {
   "cell_type": "code",
   "execution_count": 70,
   "id": "4838b887-9f46-4870-ad39-9b9a07d3c54d",
   "metadata": {},
   "outputs": [],
   "source": [
    "a = 5\n",
    "b = 3\n",
    "o = a & b"
   ]
  },
  {
   "cell_type": "code",
   "execution_count": 71,
   "id": "2e86ffe1-c5a1-456f-b2b1-60e61002e250",
   "metadata": {},
   "outputs": [
    {
     "data": {
      "text/plain": [
       "1"
      ]
     },
     "execution_count": 71,
     "metadata": {},
     "output_type": "execute_result"
    }
   ],
   "source": [
    "o"
   ]
  },
  {
   "cell_type": "code",
   "execution_count": 74,
   "id": "882db18d-d639-431d-931f-45b62a75c661",
   "metadata": {},
   "outputs": [],
   "source": [
    "o = a | b"
   ]
  },
  {
   "cell_type": "code",
   "execution_count": 75,
   "id": "b8318fa2-68c3-41b4-a0ce-6eb6980dee3f",
   "metadata": {},
   "outputs": [
    {
     "data": {
      "text/plain": [
       "7"
      ]
     },
     "execution_count": 75,
     "metadata": {},
     "output_type": "execute_result"
    }
   ],
   "source": [
    "o"
   ]
  },
  {
   "cell_type": "code",
   "execution_count": 76,
   "id": "aa61120c-1912-45cf-8f8b-31dd1b230d4b",
   "metadata": {},
   "outputs": [],
   "source": [
    "o = a^b"
   ]
  },
  {
   "cell_type": "code",
   "execution_count": 77,
   "id": "1e357fc1-11ea-45d5-a5ad-635a1123488c",
   "metadata": {},
   "outputs": [
    {
     "data": {
      "text/plain": [
       "6"
      ]
     },
     "execution_count": 77,
     "metadata": {},
     "output_type": "execute_result"
    }
   ],
   "source": [
    "o"
   ]
  },
  {
   "cell_type": "code",
   "execution_count": 78,
   "id": "dda527e4-6f35-461d-b392-1692244a0143",
   "metadata": {},
   "outputs": [],
   "source": [
    "o = ~a"
   ]
  },
  {
   "cell_type": "code",
   "execution_count": 79,
   "id": "029041f1-24b3-422e-94e4-c59bf1c12bb1",
   "metadata": {},
   "outputs": [
    {
     "data": {
      "text/plain": [
       "-6"
      ]
     },
     "execution_count": 79,
     "metadata": {},
     "output_type": "execute_result"
    }
   ],
   "source": [
    "o"
   ]
  },
  {
   "cell_type": "code",
   "execution_count": 85,
   "id": "25b098b5-f5db-4d1a-9ea5-e00eaed5222a",
   "metadata": {},
   "outputs": [],
   "source": [
    "o = x << 1"
   ]
  },
  {
   "cell_type": "code",
   "execution_count": 86,
   "id": "561d5447-01ac-448a-8df2-95b05a2b88a4",
   "metadata": {},
   "outputs": [
    {
     "data": {
      "text/plain": [
       "10"
      ]
     },
     "execution_count": 86,
     "metadata": {},
     "output_type": "execute_result"
    }
   ],
   "source": [
    "o"
   ]
  },
  {
   "cell_type": "code",
   "execution_count": 87,
   "id": "b80bd3a5-6a04-4b68-9f08-5448f8047917",
   "metadata": {},
   "outputs": [],
   "source": [
    "o = x >> 1"
   ]
  },
  {
   "cell_type": "code",
   "execution_count": 88,
   "id": "edf42edb-ff88-4c00-a427-b4863c024173",
   "metadata": {},
   "outputs": [
    {
     "data": {
      "text/plain": [
       "2"
      ]
     },
     "execution_count": 88,
     "metadata": {},
     "output_type": "execute_result"
    }
   ],
   "source": [
    "o"
   ]
  },
  {
   "cell_type": "code",
   "execution_count": 89,
   "id": "66d81316-18ad-483c-b320-8e3a1ef1c627",
   "metadata": {},
   "outputs": [],
   "source": [
    "#Identity Operators\n",
    "#These operators compare the memory locations of two objects."
   ]
  },
  {
   "cell_type": "code",
   "execution_count": 90,
   "id": "622a5eb2-5768-4e3c-a1c1-713249f0dc83",
   "metadata": {},
   "outputs": [],
   "source": [
    "a = [\"orange\", \"mango\"]\n",
    "b = [\"apple\", \"banana\"]"
   ]
  },
  {
   "cell_type": "code",
   "execution_count": 91,
   "id": "cf5d1700-32c3-499e-a84c-38f199e49fb4",
   "metadata": {},
   "outputs": [
    {
     "data": {
      "text/plain": [
       "False"
      ]
     },
     "execution_count": 91,
     "metadata": {},
     "output_type": "execute_result"
    }
   ],
   "source": [
    "a is b"
   ]
  },
  {
   "cell_type": "code",
   "execution_count": 92,
   "id": "ab5dbb86-c6f1-4918-8fc0-8c24aa66a3e8",
   "metadata": {},
   "outputs": [
    {
     "data": {
      "text/plain": [
       "True"
      ]
     },
     "execution_count": 92,
     "metadata": {},
     "output_type": "execute_result"
    }
   ],
   "source": [
    "a is not b"
   ]
  },
  {
   "cell_type": "code",
   "execution_count": 93,
   "id": "fda2acbd-073d-429e-af17-f558884cc410",
   "metadata": {},
   "outputs": [],
   "source": [
    "#Membership Operators\n",
    "#These operators test for membership in a sequence (such as strings, lists, or tuples)."
   ]
  },
  {
   "cell_type": "code",
   "execution_count": 94,
   "id": "2fe90941-a9bc-4018-bcfd-f200c6ca181b",
   "metadata": {},
   "outputs": [
    {
     "data": {
      "text/plain": [
       "True"
      ]
     },
     "execution_count": 94,
     "metadata": {},
     "output_type": "execute_result"
    }
   ],
   "source": [
    "\"orange\" in a"
   ]
  },
  {
   "cell_type": "code",
   "execution_count": 95,
   "id": "c35ec6a5-0713-4037-bf73-3ad6850a7353",
   "metadata": {},
   "outputs": [
    {
     "data": {
      "text/plain": [
       "False"
      ]
     },
     "execution_count": 95,
     "metadata": {},
     "output_type": "execute_result"
    }
   ],
   "source": [
    "\"mango\" in b"
   ]
  },
  {
   "cell_type": "code",
   "execution_count": 96,
   "id": "c847f212-dffe-4b48-bd1a-b5f0b06d3139",
   "metadata": {},
   "outputs": [],
   "source": [
    "#Question 5\n",
    "#Explain the concept of typecasting in Python with examples"
   ]
  },
  {
   "cell_type": "code",
   "execution_count": 105,
   "id": "8b7849ca-4a39-411c-b967-0bc4439c2c7e",
   "metadata": {},
   "outputs": [],
   "source": [
    "#Answer 5\n",
    "#Typecasting in Python, also known as type conversion, is the process of converting one data type into another.\n",
    "#The most commonly used functions for typecasting are:\n",
    "\n",
    "#int(): Converts a value to an integer.\n",
    "#float(): Converts a value to a float.\n",
    "#str(): Converts a value to a string.\n",
    "#list(): Converts a value to a list.\n",
    "#tuple(): Converts a value to a tuple.\n",
    "#set(): Converts a value to a set.\n",
    "#dict(): Converts a value to a dictionary (requires a sequence of key-value pairs)."
   ]
  },
  {
   "cell_type": "code",
   "execution_count": 100,
   "id": "1cfaacb3-7b7a-43c5-a64b-17af2097a373",
   "metadata": {},
   "outputs": [
    {
     "name": "stdout",
     "output_type": "stream",
     "text": [
      "7\n",
      "<class 'int'>\n"
     ]
    }
   ],
   "source": [
    "#Examples\n",
    "\n",
    "#Converting a float to an integer\n",
    "x = 7.9\n",
    "y = int(x)  \n",
    "print(y) \n",
    "print(type(y))"
   ]
  },
  {
   "cell_type": "code",
   "execution_count": 101,
   "id": "bc31507e-ad80-48d4-84a3-2a1a708e642b",
   "metadata": {},
   "outputs": [
    {
     "name": "stdout",
     "output_type": "stream",
     "text": [
      "25\n",
      "<class 'str'>\n"
     ]
    }
   ],
   "source": [
    "#Converting an integer to a string:\n",
    "\n",
    "age = 25\n",
    "age_str = str(age)\n",
    "print(age_str)\n",
    "print(type(age_str))"
   ]
  },
  {
   "cell_type": "code",
   "execution_count": 102,
   "id": "22dd5de7-9993-41c9-bc64-0e73638d7948",
   "metadata": {},
   "outputs": [
    {
     "name": "stdout",
     "output_type": "stream",
     "text": [
      "5.8\n",
      "<class 'float'>\n"
     ]
    }
   ],
   "source": [
    "#Converting a string to a float:\n",
    "\n",
    "height = \"5.8\"\n",
    "height_float = float(height) \n",
    "print(height_float) \n",
    "print(type(height_float))"
   ]
  },
  {
   "cell_type": "code",
   "execution_count": 103,
   "id": "3453a95e-6c24-4300-8684-24bac8fa1406",
   "metadata": {},
   "outputs": [
    {
     "name": "stdout",
     "output_type": "stream",
     "text": [
      "{'banana', 'apple', 'cherry'}\n",
      "<class 'set'>\n"
     ]
    }
   ],
   "source": [
    "#Converting a list to a set:\n",
    "\n",
    "fruits = [\"apple\", \"banana\", \"cherry\", \"apple\"]\n",
    "fruits_set = set(fruits)  \n",
    "print(fruits_set)  \n",
    "print(type(fruits_set))"
   ]
  },
  {
   "cell_type": "code",
   "execution_count": 104,
   "id": "58659ce5-cdaa-4624-80be-b1a2ef30902f",
   "metadata": {},
   "outputs": [
    {
     "name": "stdout",
     "output_type": "stream",
     "text": [
      "[1, 2, 3]\n",
      "<class 'list'>\n"
     ]
    }
   ],
   "source": [
    "#Converting a tuple to a list:\n",
    "\n",
    "numbers = (1, 2, 3)\n",
    "numbers_list = list(numbers) \n",
    "print(numbers_list) \n",
    "print(type(numbers_list))"
   ]
  },
  {
   "cell_type": "code",
   "execution_count": 110,
   "id": "03c1e5f9-3a33-4b99-a1db-7bbb49c2f328",
   "metadata": {},
   "outputs": [],
   "source": [
    "#Use Cases of Typecasting"
   ]
  },
  {
   "cell_type": "code",
   "execution_count": 1,
   "id": "15d80351-c8d6-45a9-a8fb-09a5478d3629",
   "metadata": {},
   "outputs": [],
   "source": [
    "#User Input: The input() function returns a string by default, so you might need to typecast the input to an integer or float.\n",
    "\n",
    "## age = int(input(\"Enter your age:\")) #user will be asked to provide an input"
   ]
  },
  {
   "cell_type": "code",
   "execution_count": 1,
   "id": "64c442d6-f17b-443a-8da7-be180b62c7c2",
   "metadata": {},
   "outputs": [
    {
     "name": "stdout",
     "output_type": "stream",
     "text": [
      "3\n"
     ]
    }
   ],
   "source": [
    "#Mathematical Operations: If you need to perform a division and get an integer result, you might want to typecast the result to int\n",
    "\n",
    "result = int(10 / 3)\n",
    "print(result)"
   ]
  },
  {
   "cell_type": "code",
   "execution_count": 2,
   "id": "6dfbd932-5edd-4a38-b41e-f949bacf80e2",
   "metadata": {},
   "outputs": [],
   "source": [
    "#Question 6\n",
    "#How do conditional statements work in python?Illustrate with examples"
   ]
  },
  {
   "cell_type": "code",
   "execution_count": 3,
   "id": "18a76f46-9987-4d27-ba77-d621a4df9a2e",
   "metadata": {},
   "outputs": [],
   "source": [
    "#Answer 4\n",
    "\n",
    "#Conditional statements in Python allow you to execute certain blocks of code based on whether a condition is True or False.\n",
    "#They are essential for decision-making in programming. The most common conditional statements in Python are if, elif, and else."
   ]
  },
  {
   "cell_type": "code",
   "execution_count": 4,
   "id": "1a52c55c-f45c-49cf-ba8f-686ed4dadc1b",
   "metadata": {},
   "outputs": [
    {
     "name": "stdout",
     "output_type": "stream",
     "text": [
      "You are eligible to vote.\n"
     ]
    }
   ],
   "source": [
    "#The if statement evaluates a condition, and if the condition is True, the block of code under the if statement is executed.\n",
    "\n",
    "age = 18\n",
    "if age >= 18:\n",
    "    print(\"You are eligible to vote.\")"
   ]
  },
  {
   "cell_type": "code",
   "execution_count": 5,
   "id": "fc61f3f3-1e41-4acf-a6c1-c611478aa0bf",
   "metadata": {},
   "outputs": [
    {
     "name": "stdout",
     "output_type": "stream",
     "text": [
      "You are not eligible to vote.\n"
     ]
    }
   ],
   "source": [
    "#The else statement is used to define an alternative block of code that will be executed if the condition in the if statement is False\n",
    "\n",
    "age = 16\n",
    "if age >= 18:\n",
    "    print(\"You are eligible to vote.\")\n",
    "else:\n",
    "    print(\"You are not eligible to vote.\")"
   ]
  },
  {
   "cell_type": "code",
   "execution_count": 7,
   "id": "e43fe466-bfbc-4d44-bb67-76271a154558",
   "metadata": {},
   "outputs": [
    {
     "name": "stdout",
     "output_type": "stream",
     "text": [
      "Grade: B\n"
     ]
    }
   ],
   "source": [
    "#The elif (short for \"else if\") statement allows you to check multiple conditions.If the first condition is False, the elif statement checks the next condition, and so on. \n",
    "#You can use multiple elif statements to handle different conditions.\n",
    "\n",
    "marks = 85\n",
    "\n",
    "if marks >= 90:\n",
    "    print(\"Grade: A\")\n",
    "elif marks >= 80:\n",
    "    print(\"Grade: B\")\n",
    "elif marks >= 70:\n",
    "    print(\"Grade: C\")\n",
    "else:\n",
    "    print(\"Grade: D\")"
   ]
  },
  {
   "cell_type": "code",
   "execution_count": 8,
   "id": "50f3754a-6cab-494c-b85a-3724447f00f6",
   "metadata": {},
   "outputs": [
    {
     "name": "stdout",
     "output_type": "stream",
     "text": [
      "You can enter the club.\n"
     ]
    }
   ],
   "source": [
    "#You can place an if statement inside another if statement to create more complex conditions. This is called nesting.\n",
    "\n",
    "age = 20\n",
    "has_id = True\n",
    "\n",
    "if age >= 18:\n",
    "    if has_id:\n",
    "        print(\"You can enter the club.\")\n",
    "    else:\n",
    "        print(\"You need an ID to enter the club.\")\n",
    "else:\n",
    "    print(\"You are too young to enter the club.\")"
   ]
  },
  {
   "cell_type": "code",
   "execution_count": 9,
   "id": "9d71aefa-7d1f-4e42-bfd7-88d422915244",
   "metadata": {},
   "outputs": [
    {
     "name": "stdout",
     "output_type": "stream",
     "text": [
      "Minor\n"
     ]
    }
   ],
   "source": [
    "#Python also allows for a shorthand if-else in the form of a conditional expression (ternary operator). It’s useful for assigning values based on a condition.\n",
    "\n",
    "age = 17\n",
    "status = \"Adult\" if age >= 18 else \"Minor\"\n",
    "print(status)"
   ]
  },
  {
   "cell_type": "code",
   "execution_count": 10,
   "id": "c3535fc9-1cd5-4209-9cdc-d205edaa573f",
   "metadata": {},
   "outputs": [
    {
     "name": "stdout",
     "output_type": "stream",
     "text": [
      "You are eligible to vote.\n"
     ]
    }
   ],
   "source": [
    "#You can combine multiple conditions using logical operators such as and, or, and not\n",
    "\n",
    "age = 25\n",
    "citizen = True\n",
    "\n",
    "if age >= 18 and citizen:\n",
    "    print(\"You are eligible to vote.\")\n",
    "else:\n",
    "    print(\"You are not eligible to vote.\")"
   ]
  },
  {
   "cell_type": "code",
   "execution_count": 11,
   "id": "d72c9742-e082-4416-ab5a-e831671c7b9a",
   "metadata": {},
   "outputs": [],
   "source": [
    "#Question 7\n",
    "#Describe the different types of loops in python and their use cases with examples."
   ]
  },
  {
   "cell_type": "code",
   "execution_count": 16,
   "id": "3cc0d685-3940-4b22-85d7-e430c25b8c61",
   "metadata": {},
   "outputs": [],
   "source": [
    "#Answer 7\n",
    "#Loops in Python are used to repeatedly execute a block of code as long as a specific condition is met.\n",
    "#Python has two main types of loops: 'for' loops and 'while' loops. Each type of loop serves different purposes and is useful in various scenarios.\n",
    "\n",
    "#'for' Loop\n",
    "\n",
    "#The for loop is used to iterate over a sequence (like a list, tuple, dictionary, set, or string) or any other iterable object.\n",
    "#It executes the block of code for each item in the sequence."
   ]
  },
  {
   "cell_type": "code",
   "execution_count": 17,
   "id": "7f78d2bb-f334-4f5c-850a-b0b4173e5a4e",
   "metadata": {},
   "outputs": [
    {
     "name": "stdout",
     "output_type": "stream",
     "text": [
      "apple\n",
      "banana\n",
      "cherry\n"
     ]
    }
   ],
   "source": [
    "#Iterating over items in a list.\n",
    "\n",
    "fruits = [\"apple\", \"banana\", \"cherry\"]\n",
    "for fruit in fruits:\n",
    "    print(fruit)"
   ]
  },
  {
   "cell_type": "code",
   "execution_count": 20,
   "id": "ef3195fd-7cf1-4b90-9371-d4bc3e1d4923",
   "metadata": {},
   "outputs": [
    {
     "name": "stdout",
     "output_type": "stream",
     "text": [
      "0\n",
      "1\n",
      "2\n",
      "3\n",
      "4\n"
     ]
    }
   ],
   "source": [
    "#Using range() to Iterate Over Numbers\n",
    "\n",
    "for i in range(5):\n",
    "    print(i)"
   ]
  },
  {
   "cell_type": "code",
   "execution_count": 21,
   "id": "958ea89c-c9cb-429a-9971-0bca21858001",
   "metadata": {},
   "outputs": [
    {
     "name": "stdout",
     "output_type": "stream",
     "text": [
      "name: John\n",
      "age: 25\n",
      "grade: A\n"
     ]
    }
   ],
   "source": [
    "#Iterating Over a Dictionary:\n",
    "\n",
    "student = {\"name\": \"John\", \"age\": 25, \"grade\": \"A\"}\n",
    "for key, value in student.items():\n",
    "    print(f\"{key}: {value}\")"
   ]
  },
  {
   "cell_type": "code",
   "execution_count": 22,
   "id": "d2c1326a-e8ed-4808-af7f-9db21ed30a7f",
   "metadata": {},
   "outputs": [],
   "source": [
    "#'while' Loop\n",
    "\n",
    "#The while loop continues to execute the block of code as long as the condition is True. The loop will stop once the condition becomes False."
   ]
  },
  {
   "cell_type": "code",
   "execution_count": 23,
   "id": "bf775146-7949-4360-8454-e42bfbaaf6f1",
   "metadata": {},
   "outputs": [
    {
     "name": "stdout",
     "output_type": "stream",
     "text": [
      "5\n",
      "4\n",
      "3\n",
      "2\n",
      "1\n"
     ]
    }
   ],
   "source": [
    "#Counting Down with a while Loop:\n",
    "\n",
    "count = 5\n",
    "while count > 0:\n",
    "    print(count)\n",
    "    count -= 1"
   ]
  },
  {
   "cell_type": "code",
   "execution_count": null,
   "id": "378b0d58-3a96-4384-9554-acfc78893b36",
   "metadata": {},
   "outputs": [],
   "source": [
    "# 'break' Statement\n",
    "\n",
    "#The break statement is used to exit a loop prematurely. It is often used when a certain condition is met and you want to stop further iterations."
   ]
  },
  {
   "cell_type": "code",
   "execution_count": 1,
   "id": "74ebfe2d-0ddf-4dd5-9e7c-c96fb3541303",
   "metadata": {},
   "outputs": [
    {
     "name": "stdout",
     "output_type": "stream",
     "text": [
      "0\n",
      "1\n",
      "2\n",
      "3\n",
      "4\n"
     ]
    }
   ],
   "source": [
    "for i in range(10):\n",
    "    if i == 5:\n",
    "        break\n",
    "    print(i)"
   ]
  },
  {
   "cell_type": "code",
   "execution_count": 2,
   "id": "5f76e397-efb9-4ce1-8813-963de9456220",
   "metadata": {},
   "outputs": [],
   "source": [
    "#continue Statement\n",
    "\n",
    "#The continue statement is used to skip the current iteration of the loop and move on to the next iteration.\n",
    "#It's useful when you want to skip certain items in a loop."
   ]
  },
  {
   "cell_type": "code",
   "execution_count": 3,
   "id": "6c0b2e48-7fc3-4a56-8834-6d7af654f7ed",
   "metadata": {},
   "outputs": [
    {
     "name": "stdout",
     "output_type": "stream",
     "text": [
      "0\n",
      "1\n",
      "3\n",
      "4\n"
     ]
    }
   ],
   "source": [
    "for i in range(5):\n",
    "    if i == 2:\n",
    "        continue\n",
    "    print(i)"
   ]
  },
  {
   "cell_type": "code",
   "execution_count": 4,
   "id": "3cb96eb3-ab82-4e01-adcf-bc187a07a676",
   "metadata": {},
   "outputs": [],
   "source": [
    "#'else' Clause with Loops\n",
    "\n",
    "#In Python, you can use an else clause with loops. The else block is executed after the loop finishes, unless the loop is terminated by a break statement."
   ]
  },
  {
   "cell_type": "code",
   "execution_count": 5,
   "id": "90b1ac41-10c0-43e0-b39b-7253a61c4465",
   "metadata": {},
   "outputs": [
    {
     "name": "stdout",
     "output_type": "stream",
     "text": [
      "0\n",
      "1\n",
      "2\n",
      "3\n",
      "4\n",
      "Loop completed successfully.\n"
     ]
    }
   ],
   "source": [
    "for i in range(5):\n",
    "    print(i)\n",
    "else:\n",
    "    print(\"Loop completed successfully.\")"
   ]
  },
  {
   "cell_type": "code",
   "execution_count": 6,
   "id": "400b6aaf-e676-41dd-8269-2af40f20427b",
   "metadata": {},
   "outputs": [],
   "source": [
    "#Nested Loops\n",
    "#A loop inside another loop is called a nested loop. The inner loop is executed for each iteration of the outer loop."
   ]
  },
  {
   "cell_type": "code",
   "execution_count": 7,
   "id": "8c877a77-e870-45f4-85dd-f6adaa09afd6",
   "metadata": {},
   "outputs": [
    {
     "name": "stdout",
     "output_type": "stream",
     "text": [
      "i=0, j=0\n",
      "i=0, j=1\n",
      "i=1, j=0\n",
      "i=1, j=1\n",
      "i=2, j=0\n",
      "i=2, j=1\n"
     ]
    }
   ],
   "source": [
    "for i in range(3):\n",
    "    for j in range(2):\n",
    "        print(f\"i={i}, j={j}\")"
   ]
  },
  {
   "cell_type": "code",
   "execution_count": null,
   "id": "0978773d-d870-48f0-a9f1-a67f4ab40061",
   "metadata": {},
   "outputs": [],
   "source": []
  }
 ],
 "metadata": {
  "kernelspec": {
   "display_name": "Python 3 (ipykernel)",
   "language": "python",
   "name": "python3"
  },
  "language_info": {
   "codemirror_mode": {
    "name": "ipython",
    "version": 3
   },
   "file_extension": ".py",
   "mimetype": "text/x-python",
   "name": "python",
   "nbconvert_exporter": "python",
   "pygments_lexer": "ipython3",
   "version": "3.10.8"
  }
 },
 "nbformat": 4,
 "nbformat_minor": 5
}
